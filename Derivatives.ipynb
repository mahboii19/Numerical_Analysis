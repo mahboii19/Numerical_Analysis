{
 "cells": [
  {
   "cell_type": "code",
   "execution_count": null,
   "id": "blessed-tourism",
   "metadata": {},
   "outputs": [],
   "source": [
    "import Pkg\n",
    "\n",
    "Pkg.add(\"Plots\")"
   ]
  },
  {
   "cell_type": "code",
   "execution_count": 15,
   "id": "political-simon",
   "metadata": {},
   "outputs": [],
   "source": [
    "using LinearAlgebra, Statistics, Plots, LaTeXStrings"
   ]
  },
  {
   "cell_type": "code",
   "execution_count": 16,
   "id": "latter-cleaning",
   "metadata": {},
   "outputs": [
    {
     "data": {
      "text/plain": [
       "-0.5310193992819834"
      ]
     },
     "execution_count": 16,
     "metadata": {},
     "output_type": "execute_result"
    }
   ],
   "source": [
    "randn()"
   ]
  },
  {
   "cell_type": "code",
   "execution_count": null,
   "id": "narrative-column",
   "metadata": {},
   "outputs": [],
   "source": [
    "n = 100\n",
    "z = randn(n)\n",
    "plot(1:n, z)"
   ]
  },
  {
   "cell_type": "code",
   "execution_count": 5,
   "id": "earlier-baghdad",
   "metadata": {},
   "outputs": [
    {
     "data": {
      "text/plain": [
       "Vector{Float64}\u001b[90m (alias for \u001b[39m\u001b[90mArray{Float64, 1}\u001b[39m\u001b[90m)\u001b[39m"
      ]
     },
     "execution_count": 5,
     "metadata": {},
     "output_type": "execute_result"
    }
   ],
   "source": [
    "typeof(z)"
   ]
  },
  {
   "cell_type": "code",
   "execution_count": 7,
   "id": "injured-atlantic",
   "metadata": {},
   "outputs": [
    {
     "name": "stdout",
     "output_type": "stream",
     "text": [
      "[-0.48847284956103787, -0.9500395497807713, 0.27970055045291187, 1.8524565133157138, 0.5560036668318727, -0.44975178422627105, 0.6589601352656299, 0.5222366834524145, 1.609157078423565, -0.33836071933933415, -0.2837480803576708, 1.821729104476699, 0.7600391452984949, -1.984901139681285, -0.03354634596587843, -0.4824863740837159, 0.302740373650761, -0.07699740959410503, -0.18892275658372512, 0.6165400611046417]"
     ]
    }
   ],
   "source": [
    "n = 100\n",
    "for i in 1:100\n",
    "    z[i] = randn()\n",
    "end\n",
    "\n",
    "print(z[1:20])"
   ]
  },
  {
   "cell_type": "code",
   "execution_count": 17,
   "id": "southwest-corrections",
   "metadata": {},
   "outputs": [
    {
     "name": "stdout",
     "output_type": "stream",
     "text": [
      "[1.0, 1.0, 1.0, 1.0, 1.0, 1.0, 1.0, 1.0, 1.0, 1.0]"
     ]
    }
   ],
   "source": [
    "n = 100\n",
    "l = zeros(n)\n",
    "\n",
    "for i in eachindex(l)\n",
    "    l[i] = 1\n",
    "end\n",
    "\n",
    "print(l[1:10])"
   ]
  },
  {
   "cell_type": "code",
   "execution_count": 19,
   "id": "smaller-mustang",
   "metadata": {},
   "outputs": [
    {
     "name": "stdout",
     "output_type": "stream",
     "text": [
      "[2.0, 2.0, 2.0, 2.0, 2.0, 2.0, 2.0, 2.0, 2.0, 2.0]"
     ]
    }
   ],
   "source": [
    "for i in 1:length(l)\n",
    "    l[i] = 2\n",
    "end\n",
    "\n",
    "print(l[1:10])"
   ]
  },
  {
   "cell_type": "code",
   "execution_count": 20,
   "id": "southern-nirvana",
   "metadata": {},
   "outputs": [
    {
     "data": {
      "image/svg+xml": [
       "<?xml version=\"1.0\" encoding=\"utf-8\"?>\n",
       "<svg xmlns=\"http://www.w3.org/2000/svg\" xmlns:xlink=\"http://www.w3.org/1999/xlink\" width=\"600\" height=\"400\" viewBox=\"0 0 2400 1600\">\n",
       "<defs>\n",
       "  <clipPath id=\"clip290\">\n",
       "    <rect x=\"0\" y=\"0\" width=\"2400\" height=\"1600\"/>\n",
       "  </clipPath>\n",
       "</defs>\n",
       "<path clip-path=\"url(#clip290)\" d=\"\n",
       "M0 1600 L2400 1600 L2400 0 L0 0  Z\n",
       "  \" fill=\"#ffffff\" fill-rule=\"evenodd\" fill-opacity=\"1\"/>\n",
       "<defs>\n",
       "  <clipPath id=\"clip291\">\n",
       "    <rect x=\"480\" y=\"0\" width=\"1681\" height=\"1600\"/>\n",
       "  </clipPath>\n",
       "</defs>\n",
       "<path clip-path=\"url(#clip290)\" d=\"\n",
       "M149.191 1486.45 L2352.76 1486.45 L2352.76 47.2441 L149.191 47.2441  Z\n",
       "  \" fill=\"#ffffff\" fill-rule=\"evenodd\" fill-opacity=\"1\"/>\n",
       "<defs>\n",
       "  <clipPath id=\"clip292\">\n",
       "    <rect x=\"149\" y=\"47\" width=\"2205\" height=\"1440\"/>\n",
       "  </clipPath>\n",
       "</defs>\n",
       "<polyline clip-path=\"url(#clip292)\" style=\"stroke:#000000; stroke-linecap:round; stroke-linejoin:round; stroke-width:2; stroke-opacity:0.1; fill:none\" points=\"\n",
       "  190.558,1486.45 190.558,47.2441 \n",
       "  \"/>\n",
       "<polyline clip-path=\"url(#clip292)\" style=\"stroke:#000000; stroke-linecap:round; stroke-linejoin:round; stroke-width:2; stroke-opacity:0.1; fill:none\" points=\"\n",
       "  715.516,1486.45 715.516,47.2441 \n",
       "  \"/>\n",
       "<polyline clip-path=\"url(#clip292)\" style=\"stroke:#000000; stroke-linecap:round; stroke-linejoin:round; stroke-width:2; stroke-opacity:0.1; fill:none\" points=\"\n",
       "  1240.47,1486.45 1240.47,47.2441 \n",
       "  \"/>\n",
       "<polyline clip-path=\"url(#clip292)\" style=\"stroke:#000000; stroke-linecap:round; stroke-linejoin:round; stroke-width:2; stroke-opacity:0.1; fill:none\" points=\"\n",
       "  1765.43,1486.45 1765.43,47.2441 \n",
       "  \"/>\n",
       "<polyline clip-path=\"url(#clip292)\" style=\"stroke:#000000; stroke-linecap:round; stroke-linejoin:round; stroke-width:2; stroke-opacity:0.1; fill:none\" points=\"\n",
       "  2290.39,1486.45 2290.39,47.2441 \n",
       "  \"/>\n",
       "<polyline clip-path=\"url(#clip290)\" style=\"stroke:#000000; stroke-linecap:round; stroke-linejoin:round; stroke-width:4; stroke-opacity:1; fill:none\" points=\"\n",
       "  149.191,1486.45 2352.76,1486.45 \n",
       "  \"/>\n",
       "<polyline clip-path=\"url(#clip290)\" style=\"stroke:#000000; stroke-linecap:round; stroke-linejoin:round; stroke-width:4; stroke-opacity:1; fill:none\" points=\"\n",
       "  190.558,1486.45 190.558,1467.55 \n",
       "  \"/>\n",
       "<polyline clip-path=\"url(#clip290)\" style=\"stroke:#000000; stroke-linecap:round; stroke-linejoin:round; stroke-width:4; stroke-opacity:1; fill:none\" points=\"\n",
       "  715.516,1486.45 715.516,1467.55 \n",
       "  \"/>\n",
       "<polyline clip-path=\"url(#clip290)\" style=\"stroke:#000000; stroke-linecap:round; stroke-linejoin:round; stroke-width:4; stroke-opacity:1; fill:none\" points=\"\n",
       "  1240.47,1486.45 1240.47,1467.55 \n",
       "  \"/>\n",
       "<polyline clip-path=\"url(#clip290)\" style=\"stroke:#000000; stroke-linecap:round; stroke-linejoin:round; stroke-width:4; stroke-opacity:1; fill:none\" points=\"\n",
       "  1765.43,1486.45 1765.43,1467.55 \n",
       "  \"/>\n",
       "<polyline clip-path=\"url(#clip290)\" style=\"stroke:#000000; stroke-linecap:round; stroke-linejoin:round; stroke-width:4; stroke-opacity:1; fill:none\" points=\"\n",
       "  2290.39,1486.45 2290.39,1467.55 \n",
       "  \"/>\n",
       "<path clip-path=\"url(#clip290)\" d=\"M190.558 1517.37 Q186.946 1517.37 185.118 1520.93 Q183.312 1524.47 183.312 1531.6 Q183.312 1538.71 185.118 1542.27 Q186.946 1545.82 190.558 1545.82 Q194.192 1545.82 195.997 1542.27 Q197.826 1538.71 197.826 1531.6 Q197.826 1524.47 195.997 1520.93 Q194.192 1517.37 190.558 1517.37 M190.558 1513.66 Q196.368 1513.66 199.423 1518.27 Q202.502 1522.85 202.502 1531.6 Q202.502 1540.33 199.423 1544.94 Q196.368 1549.52 190.558 1549.52 Q184.747 1549.52 181.669 1544.94 Q178.613 1540.33 178.613 1531.6 Q178.613 1522.85 181.669 1518.27 Q184.747 1513.66 190.558 1513.66 Z\" fill=\"#000000\" fill-rule=\"evenodd\" fill-opacity=\"1\" /><path clip-path=\"url(#clip290)\" d=\"M694.787 1544.91 L711.106 1544.91 L711.106 1548.85 L689.162 1548.85 L689.162 1544.91 Q691.824 1542.16 696.407 1537.53 Q701.014 1532.88 702.194 1531.53 Q704.44 1529.01 705.319 1527.27 Q706.222 1525.51 706.222 1523.82 Q706.222 1521.07 704.278 1519.33 Q702.356 1517.6 699.254 1517.6 Q697.055 1517.6 694.602 1518.36 Q692.171 1519.13 689.393 1520.68 L689.393 1515.95 Q692.217 1514.82 694.671 1514.24 Q697.125 1513.66 699.162 1513.66 Q704.532 1513.66 707.727 1516.35 Q710.921 1519.03 710.921 1523.52 Q710.921 1525.65 710.111 1527.57 Q709.324 1529.47 707.217 1532.07 Q706.639 1532.74 703.537 1535.95 Q700.435 1539.15 694.787 1544.91 Z\" fill=\"#000000\" fill-rule=\"evenodd\" fill-opacity=\"1\" /><path clip-path=\"url(#clip290)\" d=\"M720.967 1514.29 L739.324 1514.29 L739.324 1518.22 L725.25 1518.22 L725.25 1526.7 Q726.268 1526.35 727.287 1526.19 Q728.305 1526 729.324 1526 Q735.111 1526 738.49 1529.17 Q741.87 1532.34 741.87 1537.76 Q741.87 1543.34 738.398 1546.44 Q734.926 1549.52 728.606 1549.52 Q726.43 1549.52 724.162 1549.15 Q721.916 1548.78 719.509 1548.04 L719.509 1543.34 Q721.592 1544.47 723.814 1545.03 Q726.037 1545.58 728.514 1545.58 Q732.518 1545.58 734.856 1543.48 Q737.194 1541.37 737.194 1537.76 Q737.194 1534.15 734.856 1532.04 Q732.518 1529.94 728.514 1529.94 Q726.639 1529.94 724.764 1530.35 Q722.912 1530.77 720.967 1531.65 L720.967 1514.29 Z\" fill=\"#000000\" fill-rule=\"evenodd\" fill-opacity=\"1\" /><path clip-path=\"url(#clip290)\" d=\"M1215.17 1514.29 L1233.53 1514.29 L1233.53 1518.22 L1219.46 1518.22 L1219.46 1526.7 Q1220.47 1526.35 1221.49 1526.19 Q1222.51 1526 1223.53 1526 Q1229.32 1526 1232.7 1529.17 Q1236.08 1532.34 1236.08 1537.76 Q1236.08 1543.34 1232.6 1546.44 Q1229.13 1549.52 1222.81 1549.52 Q1220.64 1549.52 1218.37 1549.15 Q1216.12 1548.78 1213.72 1548.04 L1213.72 1543.34 Q1215.8 1544.47 1218.02 1545.03 Q1220.24 1545.58 1222.72 1545.58 Q1226.72 1545.58 1229.06 1543.48 Q1231.4 1541.37 1231.4 1537.76 Q1231.4 1534.15 1229.06 1532.04 Q1226.72 1529.94 1222.72 1529.94 Q1220.84 1529.94 1218.97 1530.35 Q1217.12 1530.77 1215.17 1531.65 L1215.17 1514.29 Z\" fill=\"#000000\" fill-rule=\"evenodd\" fill-opacity=\"1\" /><path clip-path=\"url(#clip290)\" d=\"M1255.29 1517.37 Q1251.68 1517.37 1249.85 1520.93 Q1248.04 1524.47 1248.04 1531.6 Q1248.04 1538.71 1249.85 1542.27 Q1251.68 1545.82 1255.29 1545.82 Q1258.92 1545.82 1260.73 1542.27 Q1262.56 1538.71 1262.56 1531.6 Q1262.56 1524.47 1260.73 1520.93 Q1258.92 1517.37 1255.29 1517.37 M1255.29 1513.66 Q1261.1 1513.66 1264.15 1518.27 Q1267.23 1522.85 1267.23 1531.6 Q1267.23 1540.33 1264.15 1544.94 Q1261.1 1549.52 1255.29 1549.52 Q1249.48 1549.52 1246.4 1544.94 Q1243.34 1540.33 1243.34 1531.6 Q1243.34 1522.85 1246.4 1518.27 Q1249.48 1513.66 1255.29 1513.66 Z\" fill=\"#000000\" fill-rule=\"evenodd\" fill-opacity=\"1\" /><path clip-path=\"url(#clip290)\" d=\"M1739.29 1514.29 L1761.51 1514.29 L1761.51 1516.28 L1748.96 1548.85 L1744.08 1548.85 L1755.88 1518.22 L1739.29 1518.22 L1739.29 1514.29 Z\" fill=\"#000000\" fill-rule=\"evenodd\" fill-opacity=\"1\" /><path clip-path=\"url(#clip290)\" d=\"M1770.68 1514.29 L1789.03 1514.29 L1789.03 1518.22 L1774.96 1518.22 L1774.96 1526.7 Q1775.98 1526.35 1776.99 1526.19 Q1778.01 1526 1779.03 1526 Q1784.82 1526 1788.2 1529.17 Q1791.58 1532.34 1791.58 1537.76 Q1791.58 1543.34 1788.11 1546.44 Q1784.63 1549.52 1778.31 1549.52 Q1776.14 1549.52 1773.87 1549.15 Q1771.62 1548.78 1769.22 1548.04 L1769.22 1543.34 Q1771.3 1544.47 1773.52 1545.03 Q1775.74 1545.58 1778.22 1545.58 Q1782.23 1545.58 1784.56 1543.48 Q1786.9 1541.37 1786.9 1537.76 Q1786.9 1534.15 1784.56 1532.04 Q1782.23 1529.94 1778.22 1529.94 Q1776.35 1529.94 1774.47 1530.35 Q1772.62 1530.77 1770.68 1531.65 L1770.68 1514.29 Z\" fill=\"#000000\" fill-rule=\"evenodd\" fill-opacity=\"1\" /><path clip-path=\"url(#clip290)\" d=\"M2250 1544.91 L2257.64 1544.91 L2257.64 1518.55 L2249.33 1520.21 L2249.33 1515.95 L2257.59 1514.29 L2262.27 1514.29 L2262.27 1544.91 L2269.9 1544.91 L2269.9 1548.85 L2250 1548.85 L2250 1544.91 Z\" fill=\"#000000\" fill-rule=\"evenodd\" fill-opacity=\"1\" /><path clip-path=\"url(#clip290)\" d=\"M2289.35 1517.37 Q2285.74 1517.37 2283.91 1520.93 Q2282.1 1524.47 2282.1 1531.6 Q2282.1 1538.71 2283.91 1542.27 Q2285.74 1545.82 2289.35 1545.82 Q2292.98 1545.82 2294.79 1542.27 Q2296.62 1538.71 2296.62 1531.6 Q2296.62 1524.47 2294.79 1520.93 Q2292.98 1517.37 2289.35 1517.37 M2289.35 1513.66 Q2295.16 1513.66 2298.21 1518.27 Q2301.29 1522.85 2301.29 1531.6 Q2301.29 1540.33 2298.21 1544.94 Q2295.16 1549.52 2289.35 1549.52 Q2283.54 1549.52 2280.46 1544.94 Q2277.4 1540.33 2277.4 1531.6 Q2277.4 1522.85 2280.46 1518.27 Q2283.54 1513.66 2289.35 1513.66 Z\" fill=\"#000000\" fill-rule=\"evenodd\" fill-opacity=\"1\" /><path clip-path=\"url(#clip290)\" d=\"M2319.51 1517.37 Q2315.9 1517.37 2314.07 1520.93 Q2312.27 1524.47 2312.27 1531.6 Q2312.27 1538.71 2314.07 1542.27 Q2315.9 1545.82 2319.51 1545.82 Q2323.15 1545.82 2324.95 1542.27 Q2326.78 1538.71 2326.78 1531.6 Q2326.78 1524.47 2324.95 1520.93 Q2323.15 1517.37 2319.51 1517.37 M2319.51 1513.66 Q2325.32 1513.66 2328.38 1518.27 Q2331.46 1522.85 2331.46 1531.6 Q2331.46 1540.33 2328.38 1544.94 Q2325.32 1549.52 2319.51 1549.52 Q2313.7 1549.52 2310.62 1544.94 Q2307.57 1540.33 2307.57 1531.6 Q2307.57 1522.85 2310.62 1518.27 Q2313.7 1513.66 2319.51 1513.66 Z\" fill=\"#000000\" fill-rule=\"evenodd\" fill-opacity=\"1\" /><polyline clip-path=\"url(#clip292)\" style=\"stroke:#000000; stroke-linecap:round; stroke-linejoin:round; stroke-width:2; stroke-opacity:0.1; fill:none\" points=\"\n",
       "  149.191,1281.33 2352.76,1281.33 \n",
       "  \"/>\n",
       "<polyline clip-path=\"url(#clip292)\" style=\"stroke:#000000; stroke-linecap:round; stroke-linejoin:round; stroke-width:2; stroke-opacity:0.1; fill:none\" points=\"\n",
       "  149.191,1008.11 2352.76,1008.11 \n",
       "  \"/>\n",
       "<polyline clip-path=\"url(#clip292)\" style=\"stroke:#000000; stroke-linecap:round; stroke-linejoin:round; stroke-width:2; stroke-opacity:0.1; fill:none\" points=\"\n",
       "  149.191,734.882 2352.76,734.882 \n",
       "  \"/>\n",
       "<polyline clip-path=\"url(#clip292)\" style=\"stroke:#000000; stroke-linecap:round; stroke-linejoin:round; stroke-width:2; stroke-opacity:0.1; fill:none\" points=\"\n",
       "  149.191,461.657 2352.76,461.657 \n",
       "  \"/>\n",
       "<polyline clip-path=\"url(#clip292)\" style=\"stroke:#000000; stroke-linecap:round; stroke-linejoin:round; stroke-width:2; stroke-opacity:0.1; fill:none\" points=\"\n",
       "  149.191,188.431 2352.76,188.431 \n",
       "  \"/>\n",
       "<polyline clip-path=\"url(#clip290)\" style=\"stroke:#000000; stroke-linecap:round; stroke-linejoin:round; stroke-width:4; stroke-opacity:1; fill:none\" points=\"\n",
       "  149.191,1486.45 149.191,47.2441 \n",
       "  \"/>\n",
       "<polyline clip-path=\"url(#clip290)\" style=\"stroke:#000000; stroke-linecap:round; stroke-linejoin:round; stroke-width:4; stroke-opacity:1; fill:none\" points=\"\n",
       "  149.191,1281.33 168.089,1281.33 \n",
       "  \"/>\n",
       "<polyline clip-path=\"url(#clip290)\" style=\"stroke:#000000; stroke-linecap:round; stroke-linejoin:round; stroke-width:4; stroke-opacity:1; fill:none\" points=\"\n",
       "  149.191,1008.11 168.089,1008.11 \n",
       "  \"/>\n",
       "<polyline clip-path=\"url(#clip290)\" style=\"stroke:#000000; stroke-linecap:round; stroke-linejoin:round; stroke-width:4; stroke-opacity:1; fill:none\" points=\"\n",
       "  149.191,734.882 168.089,734.882 \n",
       "  \"/>\n",
       "<polyline clip-path=\"url(#clip290)\" style=\"stroke:#000000; stroke-linecap:round; stroke-linejoin:round; stroke-width:4; stroke-opacity:1; fill:none\" points=\"\n",
       "  149.191,461.657 168.089,461.657 \n",
       "  \"/>\n",
       "<polyline clip-path=\"url(#clip290)\" style=\"stroke:#000000; stroke-linecap:round; stroke-linejoin:round; stroke-width:4; stroke-opacity:1; fill:none\" points=\"\n",
       "  149.191,188.431 168.089,188.431 \n",
       "  \"/>\n",
       "<path clip-path=\"url(#clip290)\" d=\"M50.9921 1281.79 L80.6679 1281.79 L80.6679 1285.72 L50.9921 1285.72 L50.9921 1281.79 Z\" fill=\"#000000\" fill-rule=\"evenodd\" fill-opacity=\"1\" /><path clip-path=\"url(#clip290)\" d=\"M103.608 1268.13 L91.8021 1286.58 L103.608 1286.58 L103.608 1268.13 M102.381 1264.05 L108.26 1264.05 L108.26 1286.58 L113.191 1286.58 L113.191 1290.47 L108.26 1290.47 L108.26 1298.61 L103.608 1298.61 L103.608 1290.47 L88.0058 1290.47 L88.0058 1285.95 L102.381 1264.05 Z\" fill=\"#000000\" fill-rule=\"evenodd\" fill-opacity=\"1\" /><path clip-path=\"url(#clip290)\" d=\"M53.0754 1008.56 L82.7512 1008.56 L82.7512 1012.49 L53.0754 1012.49 L53.0754 1008.56 Z\" fill=\"#000000\" fill-rule=\"evenodd\" fill-opacity=\"1\" /><path clip-path=\"url(#clip290)\" d=\"M96.8715 1021.45 L113.191 1021.45 L113.191 1025.39 L91.2465 1025.39 L91.2465 1021.45 Q93.9086 1018.7 98.4919 1014.07 Q103.098 1009.42 104.279 1008.07 Q106.524 1005.55 107.404 1003.81 Q108.307 1002.05 108.307 1000.37 Q108.307 997.61 106.362 995.874 Q104.441 994.138 101.339 994.138 Q99.14 994.138 96.6863 994.902 Q94.2558 995.666 91.478 997.217 L91.478 992.495 Q94.3021 991.36 96.7558 990.782 Q99.2095 990.203 101.246 990.203 Q106.617 990.203 109.811 992.888 Q113.006 995.573 113.006 1000.06 Q113.006 1002.19 112.196 1004.12 Q111.408 1006.01 109.302 1008.61 Q108.723 1009.28 105.621 1012.49 Q102.52 1015.69 96.8715 1021.45 Z\" fill=\"#000000\" fill-rule=\"evenodd\" fill-opacity=\"1\" /><path clip-path=\"url(#clip290)\" d=\"M101.246 720.681 Q97.6354 720.681 95.8067 724.246 Q94.0012 727.787 94.0012 734.917 Q94.0012 742.024 95.8067 745.588 Q97.6354 749.13 101.246 749.13 Q104.881 749.13 106.686 745.588 Q108.515 742.024 108.515 734.917 Q108.515 727.787 106.686 724.246 Q104.881 720.681 101.246 720.681 M101.246 716.977 Q107.057 716.977 110.112 721.584 Q113.191 726.167 113.191 734.917 Q113.191 743.644 110.112 748.25 Q107.057 752.834 101.246 752.834 Q95.4363 752.834 92.3576 748.25 Q89.3021 743.644 89.3021 734.917 Q89.3021 726.167 92.3576 721.584 Q95.4363 716.977 101.246 716.977 Z\" fill=\"#000000\" fill-rule=\"evenodd\" fill-opacity=\"1\" /><path clip-path=\"url(#clip290)\" d=\"M96.8715 475.001 L113.191 475.001 L113.191 478.937 L91.2465 478.937 L91.2465 475.001 Q93.9086 472.247 98.4919 467.617 Q103.098 462.965 104.279 461.622 Q106.524 459.099 107.404 457.363 Q108.307 455.603 108.307 453.914 Q108.307 451.159 106.362 449.423 Q104.441 447.687 101.339 447.687 Q99.14 447.687 96.6863 448.451 Q94.2558 449.215 91.478 450.766 L91.478 446.043 Q94.3021 444.909 96.7558 444.33 Q99.2095 443.752 101.246 443.752 Q106.617 443.752 109.811 446.437 Q113.006 449.122 113.006 453.613 Q113.006 455.742 112.196 457.664 Q111.408 459.562 109.302 462.154 Q108.723 462.826 105.621 466.043 Q102.52 469.238 96.8715 475.001 Z\" fill=\"#000000\" fill-rule=\"evenodd\" fill-opacity=\"1\" /><path clip-path=\"url(#clip290)\" d=\"M103.608 175.225 L91.8021 193.674 L103.608 193.674 L103.608 175.225 M102.381 171.151 L108.26 171.151 L108.26 193.674 L113.191 193.674 L113.191 197.563 L108.26 197.563 L108.26 205.711 L103.608 205.711 L103.608 197.563 L88.0058 197.563 L88.0058 193.049 L102.381 171.151 Z\" fill=\"#000000\" fill-rule=\"evenodd\" fill-opacity=\"1\" /><polyline clip-path=\"url(#clip292)\" style=\"stroke:#009af9; stroke-linecap:round; stroke-linejoin:round; stroke-width:4; stroke-opacity:1; fill:none\" points=\"\n",
       "  211.556,632.037 232.554,621.933 253.553,619.173 274.551,1173.8 295.549,1042.16 316.548,478.181 337.546,1041.22 358.544,610.972 379.543,986.565 400.541,623.033 \n",
       "  421.539,1170.86 442.538,341.383 463.536,649.369 484.534,1010.16 505.533,619.219 526.531,619.076 547.529,736.416 568.528,651.845 589.526,566.876 610.524,860.929 \n",
       "  631.523,938.034 652.521,221.763 673.519,556.789 694.518,575.123 715.516,1313.24 736.514,579.125 757.513,195.232 778.511,653.793 799.509,583.661 820.508,903.295 \n",
       "  841.506,333.86 862.504,693.096 883.503,982.31 904.501,920.388 925.499,894.676 946.498,613.006 967.496,373.119 988.494,1032.5 1009.49,1155.87 1030.49,333.746 \n",
       "  1051.49,1109.87 1072.49,679.371 1093.49,1283.68 1114.48,312.58 1135.48,705.303 1156.48,1033.03 1177.48,727.046 1198.48,544.645 1219.48,552.1 1240.47,1153.05 \n",
       "  1261.47,861.235 1282.47,706.145 1303.47,940.889 1324.47,1445.72 1345.47,571.846 1366.46,590.057 1387.46,868.846 1408.46,1020.61 1429.46,768.186 1450.46,460.911 \n",
       "  1471.46,548.821 1492.45,649.475 1513.45,794.257 1534.45,966.695 1555.45,1141.44 1576.45,1066.09 1597.45,738.592 1618.44,627.945 1639.44,725.369 1660.44,1039.47 \n",
       "  1681.44,132.636 1702.44,697.126 1723.44,486.452 1744.43,1135.09 1765.43,999.905 1786.43,268.441 1807.43,888.876 1828.43,656.579 1849.43,804.131 1870.42,657.535 \n",
       "  1891.42,1000.78 1912.42,808.128 1933.42,325.621 1954.42,87.9763 1975.42,1076.03 1996.41,638.291 2017.41,367.007 2038.41,432.309 2059.41,781.932 2080.41,138.559 \n",
       "  2101.41,703.469 2122.4,744.097 2143.4,690.999 2164.4,999.736 2185.4,1211.38 2206.4,858.572 2227.4,925.411 2248.39,950.238 2269.39,953.975 2290.39,755.284 \n",
       "  \n",
       "  \"/>\n",
       "<path clip-path=\"url(#clip290)\" d=\"\n",
       "M2006.52 1438.47 L2279.3 1438.47 L2279.3 1334.79 L2006.52 1334.79  Z\n",
       "  \" fill=\"#ffffff\" fill-rule=\"evenodd\" fill-opacity=\"1\"/>\n",
       "<polyline clip-path=\"url(#clip290)\" style=\"stroke:#000000; stroke-linecap:round; stroke-linejoin:round; stroke-width:4; stroke-opacity:1; fill:none\" points=\"\n",
       "  2006.52,1438.47 2279.3,1438.47 2279.3,1334.79 2006.52,1334.79 2006.52,1438.47 \n",
       "  \"/>\n",
       "<polyline clip-path=\"url(#clip290)\" style=\"stroke:#009af9; stroke-linecap:round; stroke-linejoin:round; stroke-width:4; stroke-opacity:1; fill:none\" points=\"\n",
       "  2031,1386.63 2177.91,1386.63 \n",
       "  \"/>\n",
       "<path clip-path=\"url(#clip290)\" d=\"M2216.23 1406.32 Q2214.43 1410.95 2212.71 1412.36 Q2211 1413.78 2208.13 1413.78 L2204.73 1413.78 L2204.73 1410.21 L2207.23 1410.21 Q2208.99 1410.21 2209.96 1409.38 Q2210.93 1408.54 2212.11 1405.44 L2212.88 1403.5 L2202.39 1377.99 L2206.9 1377.99 L2215.01 1398.27 L2223.11 1377.99 L2227.62 1377.99 L2216.23 1406.32 Z\" fill=\"#000000\" fill-rule=\"evenodd\" fill-opacity=\"1\" /><path clip-path=\"url(#clip290)\" d=\"M2234.91 1399.98 L2242.55 1399.98 L2242.55 1373.61 L2234.24 1375.28 L2234.24 1371.02 L2242.5 1369.35 L2247.18 1369.35 L2247.18 1399.98 L2254.82 1399.98 L2254.82 1403.91 L2234.91 1403.91 L2234.91 1399.98 Z\" fill=\"#000000\" fill-rule=\"evenodd\" fill-opacity=\"1\" /></svg>\n"
      ]
     },
     "execution_count": 20,
     "metadata": {},
     "output_type": "execute_result"
    }
   ],
   "source": [
    "function iterate(size)\n",
    "    arr = zeros(size)\n",
    "    \n",
    "    for i in eachindex(arr)\n",
    "        arr[i] = randn() + 2*randn()\n",
    "    end\n",
    "    \n",
    "    plot(1:size, arr)\n",
    "end\n",
    "\n",
    "iterate(100)"
   ]
  },
  {
   "cell_type": "code",
   "execution_count": 64,
   "id": "structural-charity",
   "metadata": {},
   "outputs": [
    {
     "data": {
      "text/plain": [
       "10.002000000001168"
      ]
     },
     "execution_count": 64,
     "metadata": {},
     "output_type": "execute_result"
    }
   ],
   "source": [
    "# Single line function\n",
    "f(x) = 2x^2 + 2x + 1\n",
    "\n",
    "# Derivative function at a single point (uses dx as denominator)\n",
    "function derivative(f, x, step_size)\n",
    "    xph = x + step_size\n",
    "    dx = xph - x\n",
    "    deriv = (f(xph) - f(x)) / dx\n",
    "    return deriv\n",
    "end\n",
    "\n",
    "derivative(f, 2, .001)"
   ]
  },
  {
   "cell_type": "code",
   "execution_count": 69,
   "id": "determined-locking",
   "metadata": {},
   "outputs": [
    {
     "data": {
      "text/plain": [
       "0.0009999999999998899"
      ]
     },
     "execution_count": 69,
     "metadata": {},
     "output_type": "execute_result"
    }
   ],
   "source": [
    "(2 + .001) - 2"
   ]
  },
  {
   "cell_type": "code",
   "execution_count": 70,
   "id": "insured-television",
   "metadata": {},
   "outputs": [
    {
     "data": {
      "text/plain": [
       "0.0009999999999998899"
      ]
     },
     "execution_count": 70,
     "metadata": {},
     "output_type": "execute_result"
    }
   ],
   "source": [
    "xn = 2 + .001\n",
    "xn - 2"
   ]
  },
  {
   "cell_type": "code",
   "execution_count": 65,
   "id": "catholic-henry",
   "metadata": {},
   "outputs": [
    {
     "data": {
      "text/plain": [
       "10.002000000000066"
      ]
     },
     "execution_count": 65,
     "metadata": {},
     "output_type": "execute_result"
    }
   ],
   "source": [
    "# Derivative function at a single point (uses step_size as denominator)\n",
    "function derivative(f, x, step_size)\n",
    "    xph = x + step_size\n",
    "    deriv = (f(xph) - f(x)) / step_size\n",
    "    return deriv\n",
    "end\n",
    "\n",
    "derivative(f, 2, .001)"
   ]
  },
  {
   "cell_type": "code",
   "execution_count": 3,
   "id": "answering-recording",
   "metadata": {},
   "outputs": [
    {
     "data": {
      "text/plain": [
       "f_prime (generic function with 1 method)"
      ]
     },
     "execution_count": 3,
     "metadata": {},
     "output_type": "execute_result"
    }
   ],
   "source": [
    "# Single line function\n",
    "\n",
    "# Original function\n",
    "f(x) = 2x^2 + 2x + 1\n",
    "\n",
    "# f'(x) - Derivative function\n",
    "f_prime(x) = 4x + 2"
   ]
  },
  {
   "cell_type": "code",
   "execution_count": 4,
   "id": "experimental-drama",
   "metadata": {},
   "outputs": [
    {
     "ename": "LoadError",
     "evalue": "LoadError: UndefVarError: `@L_str` not defined\nin expression starting at In[4]:31",
     "output_type": "error",
     "traceback": [
      "LoadError: UndefVarError: `@L_str` not defined\nin expression starting at In[4]:31",
      ""
     ]
    }
   ],
   "source": [
    "# Creating x axis values\n",
    "n = 100\n",
    "x_values = zeros(n+1)\n",
    "\n",
    "initial = 0\n",
    "for i in eachindex(x_values)\n",
    "    x_values[i] = -50 + initial\n",
    "    initial += 1\n",
    "end\n",
    "\n",
    "# Array of x-axis values\n",
    "x = x_values\n",
    "\n",
    "# Array for storing derivatives\n",
    "deriv_arr = zeros(n+1)\n",
    "\n",
    "# Creating derivative function that takes arrays as inputs (for calculating derivatives at more than one point)\n",
    "function derivative(f, x, step_size)\n",
    "    for i in eachindex(x)\n",
    "        xph = x[i] + step_size\n",
    "        dx = xph - x[i]\n",
    "        deriv_arr[i] = (f(xph) - f(x[i])) / dx\n",
    "    end\n",
    "    return deriv_arr\n",
    "end\n",
    "\n",
    "\n",
    "derivatives = derivative(f, x, .001)\n",
    "y = f_prime.(x)\n",
    "\n",
    "plot(x, derivatives, label=L\"f'(x) ≈ 4x+2\")\n",
    "plot!(x, y, label=L\"f'(x) = 4x+2\")\n",
    "\n",
    "\n",
    "#y = f.(x)\n",
    "#plot(x,y, label=L\"f(x)=2x^2+2x+1\")"
   ]
  },
  {
   "cell_type": "code",
   "execution_count": 2,
   "id": "fatty-salem",
   "metadata": {},
   "outputs": [
    {
     "ename": "LoadError",
     "evalue": "UndefVarError: `derivatives` not defined",
     "output_type": "error",
     "traceback": [
      "UndefVarError: `derivatives` not defined",
      ""
     ]
    }
   ],
   "source": [
    "derivatives"
   ]
  },
  {
   "cell_type": "code",
   "execution_count": null,
   "id": "soviet-memphis",
   "metadata": {},
   "outputs": [],
   "source": [
    "# Taylor Series "
   ]
  }
 ],
 "metadata": {
  "kernelspec": {
   "display_name": "Julia 1.9.0",
   "language": "julia",
   "name": "julia-1.9"
  },
  "language_info": {
   "file_extension": ".jl",
   "mimetype": "application/julia",
   "name": "julia",
   "version": "1.9.0"
  }
 },
 "nbformat": 4,
 "nbformat_minor": 5
}
